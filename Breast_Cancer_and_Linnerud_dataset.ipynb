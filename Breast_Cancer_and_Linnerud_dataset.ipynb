{
  "nbformat": 4,
  "nbformat_minor": 0,
  "metadata": {
    "kernelspec": {
      "display_name": "Python 3",
      "language": "python",
      "name": "python3"
    },
    "language_info": {
      "codemirror_mode": {
        "name": "ipython",
        "version": 3
      },
      "file_extension": ".py",
      "mimetype": "text/x-python",
      "name": "python",
      "nbconvert_exporter": "python",
      "pygments_lexer": "ipython3",
      "version": "3.7.6"
    },
    "colab": {
      "name": "Breast_Cancer and Linnerud dataset.ipynb",
      "provenance": [],
      "collapsed_sections": []
    }
  },
  "cells": [
    {
      "cell_type": "markdown",
      "metadata": {
        "id": "HFYvjZS08R88",
        "colab_type": "text"
      },
      "source": [
        "### <span style=\"color:#0b486b\">Instructions</span>\n",
        "\n",
        "This notebook has been prepared for you to complete the Data Science Project. Some sections have been pre-filled  to help you get started. **The total mark for this task is 100**.\n",
        "\n",
        "There are two parts in this notebook that require you to complete:\n",
        "\n",
        "* **Part 1**: *Linear Regression* (**70 marks**)\n",
        "* **Part 2**: *Classification* (**30 marks**)\n",
        "\n",
        "Each part includes three main components:\n",
        " * **A:** Load a dataset from sklearn and examine it.\n",
        " * **B:** Build a training model and make predictions.\n",
        " * **C:** Report the results and visualize the data.\n",
        "\n",
        "Before you start, read the entire notebook carefully to understand what you need to do. You should also refer to the main instructions in *Project_instructions.pdf*  to know what else you need to complete for this project.\n",
        "\n",
        "As you go through this notebook:\n",
        "\n",
        "\n",
        "* markdown cells marked with **Note** mean description sections.\n",
        "\n",
        "\n",
        "* markdown cells marked with **Instructions** mean the instructions given to you to complete the sections.\n",
        "\n",
        "\n",
        "* Instructions marked with **(D)** and **(HD)** are for students aiming at high grades. They are more involved and can be completed after all other instructions.\n",
        "\n",
        "\n",
        "* For each cell marked with **#YOU ARE REQUIRED TO INSERT YOUR CODE IN THIS CELL**, there will be places where you **must** supply your own codes when instructed. <br><br>\n",
        "\n",
        "* For each cell marked with **#YOU ARE REQUIRED TO INSERT YOUR COMMENT IN THIS CELL**, there will be place where you **must** provide your own comment when instructed. <br><br>\n",
        "\n",
        "\n",
        "In the end, you must execute the entire notebook and submit two files:\n",
        "\n",
        " 1. The source of your solution notebook: **[YourID]_project_solution.ipynb**\n",
        " 2. And an exported version of your output: **[YourID]_project_output.html**\n",
        "       \n",
        "\n",
        "Please proceed with the instructions for each part below to complete your tasks."
      ]
    },
    {
      "cell_type": "markdown",
      "metadata": {
        "id": "QnDfdneR8R89",
        "colab_type": "text"
      },
      "source": [
        "**Note**: The following packages will be required for this assignment. If you need to import more packages, you might append them to the end of the following cell. "
      ]
    },
    {
      "cell_type": "code",
      "metadata": {
        "id": "ZYa_0c4F8R89",
        "colab_type": "code",
        "colab": {}
      },
      "source": [
        "import numpy as np\n",
        "from sklearn import datasets\n",
        "import sklearn.metrics as metrics\n",
        "from sklearn import linear_model\n",
        "from sklearn import naive_bayes\n",
        "from sklearn.manifold import TSNE\n",
        "import matplotlib.pyplot as plt \n",
        "%matplotlib inline\n",
        "import pandas as pd"
      ],
      "execution_count": 0,
      "outputs": []
    },
    {
      "cell_type": "markdown",
      "metadata": {
        "id": "sGQWKqg08R9C",
        "colab_type": "text"
      },
      "source": [
        "# <span style=\"color:#0b486b\">Part 1: Linear Regression</span>\n",
        "\n",
        "In this part, you will be required to work on Linear Regression for the Linnerud dataset from sklearn.\n",
        "\n",
        "The Linnerud dataset is a multi-output regression dataset. It consists of three excercise (data) and three physiological (target) variables collected from twenty middle-aged men in a fitness club:\n",
        "\n",
        "physiological - containing 20 observations on 3 physiological variables:\n",
        "Weight, Waist and Pulse.\n",
        "\n",
        "exercise - containing 20 observations on 3 exercise variables:\n",
        "Chins, Situps and Jumps."
      ]
    },
    {
      "cell_type": "markdown",
      "metadata": {
        "id": "gkM6qZhL8R9C",
        "colab_type": "text"
      },
      "source": [
        "## Part 1A: Load and examine the Linnerud dataset"
      ]
    },
    {
      "cell_type": "markdown",
      "metadata": {
        "id": "VJiuQXGm8R9D",
        "colab_type": "text"
      },
      "source": [
        "**Instruction 1.1.** Write your code to load the **Linnerud** dataset from sklearn and assign it to a variable called `linnerud`.\n",
        "\n",
        "[**Total mark: 3**]"
      ]
    },
    {
      "cell_type": "code",
      "metadata": {
        "id": "Nk9v4XMj8R9E",
        "colab_type": "code",
        "outputId": "d53132cb-976d-4a3c-9cd6-26a56096619d",
        "colab": {
          "base_uri": "https://localhost:8080/",
          "height": 33
        }
      },
      "source": [
        "# YOU ARE REQUIRED TO INSERT YOUR CODES IN THIS CELL\n",
        "linnerud = datasets.load_linnerud()\n",
        "print(linnerud.keys())"
      ],
      "execution_count": 0,
      "outputs": [
        {
          "output_type": "stream",
          "text": [
            "dict_keys(['data', 'feature_names', 'target', 'target_names', 'DESCR', 'data_filename', 'target_filename'])\n"
          ],
          "name": "stdout"
        }
      ]
    },
    {
      "cell_type": "markdown",
      "metadata": {
        "id": "vXvZ2ti58R9G",
        "colab_type": "text"
      },
      "source": [
        "**Note:** `linnerud` is a dictionary with two keys: *'data'* - a numpy array containing the features and *'target'* containing the labels. The cell code below assigns the data to variable `X` and the labels to variable `Y`. Run the cell and use `X` and `Y` for later tasks."
      ]
    },
    {
      "cell_type": "code",
      "metadata": {
        "id": "actnk90r8R9H",
        "colab_type": "code",
        "colab": {}
      },
      "source": [
        "X = linnerud['data']\n",
        "Y = linnerud['target']\n",
        "feature_names_X = linnerud['feature_names']\n",
        "label_names_Y = linnerud['target_names']"
      ],
      "execution_count": 0,
      "outputs": []
    },
    {
      "cell_type": "code",
      "metadata": {
        "id": "9bktAISXd6h7",
        "colab_type": "code",
        "colab": {}
      },
      "source": [
        "df=pd.DataFrame(data=X, columns=feature_names_X)\n",
        "df1=pd.DataFrame(data=Y, columns=label_names_Y)"
      ],
      "execution_count": 0,
      "outputs": []
    },
    {
      "cell_type": "code",
      "metadata": {
        "id": "8CqIbcUChD67",
        "colab_type": "code",
        "colab": {}
      },
      "source": [
        ""
      ],
      "execution_count": 0,
      "outputs": []
    },
    {
      "cell_type": "markdown",
      "metadata": {
        "id": "oXUG5rpS8R9K",
        "colab_type": "text"
      },
      "source": [
        "**Instruction 1.2.** Now you need to examine the size and structure of the dataset. \n",
        "\n",
        "**Your tasks are:**\n",
        "1. Write your code to find and print out the number of **samples** and the number of **features** in the dataset. (1 mark)\n",
        "2. Print the feature and label names for the dataset. (1 mark)\n",
        "\n",
        "[**Total mark: 2**]"
      ]
    },
    {
      "cell_type": "code",
      "metadata": {
        "id": "-ItWKp_38R9M",
        "colab_type": "code",
        "outputId": "df291bc1-76a0-45e4-9b37-7a5494df329a",
        "colab": {
          "base_uri": "https://localhost:8080/",
          "height": 115
        }
      },
      "source": [
        "# YOU ARE REQUIRED TO INSERT YOUR CODES IN THIS CELL\n",
        "'''\n",
        "1. Write your code to find and print out the number of **samples** \n",
        "    and the number of **features** in the dataset.\n",
        "    Using variable X.\n",
        "'''\n",
        "print('The number of samples:')\n",
        "print(len(X))\n",
        "\n",
        "print('The number of features:')\n",
        "print(len(feature_names_X))\n",
        "\n",
        "# 2. Print the feature and label names for the dataset.\n",
        "print('list of Features',feature_names_X)\n",
        "print('Labels ',label_names_Y)"
      ],
      "execution_count": 0,
      "outputs": [
        {
          "output_type": "stream",
          "text": [
            "The number of samples:\n",
            "20\n",
            "The number of features:\n",
            "3\n",
            "list of Features ['Chins', 'Situps', 'Jumps']\n",
            "Labels  ['Weight', 'Waist', 'Pulse']\n"
          ],
          "name": "stdout"
        }
      ]
    },
    {
      "cell_type": "markdown",
      "metadata": {
        "id": "vW5ascb58R9P",
        "colab_type": "text"
      },
      "source": [
        "**Instruction 1.3.** We also need to get a brief understanding about the task by doing some statistics on the features and labels.\n",
        "\n",
        "**Your tasks are:**\n",
        "\n",
        "1. Write your code to print the **min**, **max**, **median** for each of the features. You need to use a loop in this task. (2 marks)\n",
        "2. Construct a **box-plot** for each of the features. (3 marks)\n",
        "\n",
        "3. Write your code to print the **min**, **max**, **median** for each of the labels. You need to use a loop in this task. (1 marks)\n",
        "4. Construct a **box-plot** for each of the labels. (1 marks)\n",
        "\n",
        "Do not forget to look at the feature and label names and print them in the output accordingly.\n",
        "\n",
        "[**Total marks: 7**]"
      ]
    },
    {
      "cell_type": "code",
      "metadata": {
        "id": "zTaxr6P-8R9P",
        "colab_type": "code",
        "outputId": "a9c099e1-e85c-46b0-b5d1-76eabdc0947a",
        "colab": {
          "base_uri": "https://localhost:8080/",
          "height": 180
        }
      },
      "source": [
        "# YOU ARE REQUIRED TO INSERT YOUR CODES IN THIS CELL\n",
        "#1. Write your code to print the min, max, median for each of the features. You need to use a loop in this task. \n",
        "print(df.describe().loc[['min' ,'max','mean']])\n",
        "print('-----------------------------------')\n",
        "print('Median of dataset\\n',df.median())"
      ],
      "execution_count": 0,
      "outputs": [
        {
          "output_type": "stream",
          "text": [
            "      Chins  Situps  Jumps\n",
            "min    1.00   50.00   25.0\n",
            "max   17.00  251.00  250.0\n",
            "mean   9.45  145.55   70.3\n",
            "-----------------------------------\n",
            "Median of dataset\n",
            " Chins      11.5\n",
            "Situps    122.5\n",
            "Jumps      54.0\n",
            "dtype: float64\n"
          ],
          "name": "stdout"
        }
      ]
    },
    {
      "cell_type": "code",
      "metadata": {
        "id": "KjMyLEAL8R9T",
        "colab_type": "code",
        "outputId": "39426708-2e9d-4dbc-cf7d-4cd505f09120",
        "colab": {
          "base_uri": "https://localhost:8080/",
          "height": 281
        }
      },
      "source": [
        "# YOU ARE REQUIRED TO INSERT YOUR CODES IN THIS CELL\n",
        "#2. Construct a box-plot for each of the features.\n",
        "df['Chins'].plot(kind='box')"
      ],
      "execution_count": 0,
      "outputs": [
        {
          "output_type": "execute_result",
          "data": {
            "text/plain": [
              "<matplotlib.axes._subplots.AxesSubplot at 0x7f88d0caeba8>"
            ]
          },
          "metadata": {
            "tags": []
          },
          "execution_count": 182
        },
        {
          "output_type": "display_data",
          "data": {
            "image/png": "[encoded data removed]",
            "text/plain": [
              "<Figure size 432x288 with 1 Axes>"
            ]
          },
          "metadata": {
            "tags": [],
            "needs_background": "light"
          }
        }
      ]
    },
    {
      "cell_type": "code",
      "metadata": {
        "id": "QqkjWZVOtwb3",
        "colab_type": "code",
        "outputId": "50a5171f-a0e9-48a4-a372-00eb3643b18d",
        "colab": {
          "base_uri": "https://localhost:8080/",
          "height": 281
        }
      },
      "source": [
        "df['Situps'].plot(kind='box')\n"
      ],
      "execution_count": 0,
      "outputs": [
        {
          "output_type": "execute_result",
          "data": {
            "text/plain": [
              "<matplotlib.axes._subplots.AxesSubplot at 0x7f88d12734e0>"
            ]
          },
          "metadata": {
            "tags": []
          },
          "execution_count": 183
        },
        {
          "output_type": "display_data",
          "data": {
            "image/png": "[encoded data removed]",
            "text/plain": [
              "<Figure size 432x288 with 1 Axes>"
            ]
          },
          "metadata": {
            "tags": [],
            "needs_background": "light"
          }
        }
      ]
    },
    {
      "cell_type": "code",
      "metadata": {
        "id": "DwaH3FbQtwPv",
        "colab_type": "code",
        "outputId": "ab1a85c5-8ab9-4b4e-b9f3-3765d4079c17",
        "colab": {
          "base_uri": "https://localhost:8080/",
          "height": 281
        }
      },
      "source": [
        "df['Jumps'].plot(kind='box')"
      ],
      "execution_count": 0,
      "outputs": [
        {
          "output_type": "execute_result",
          "data": {
            "text/plain": [
              "<matplotlib.axes._subplots.AxesSubplot at 0x7f88d0de2d30>"
            ]
          },
          "metadata": {
            "tags": []
          },
          "execution_count": 184
        },
        {
          "output_type": "display_data",
          "data": {
            "image/png": "[encoded data removed]",
            "text/plain": [
              "<Figure size 432x288 with 1 Axes>"
            ]
          },
          "metadata": {
            "tags": [],
            "needs_background": "light"
          }
        }
      ]
    },
    {
      "cell_type": "code",
      "metadata": {
        "id": "QfAmyeF_8R9W",
        "colab_type": "code",
        "outputId": "a986c376-56a1-4a87-9758-03ae802d88d8",
        "colab": {
          "base_uri": "https://localhost:8080/",
          "height": 180
        }
      },
      "source": [
        "# YOU ARE REQUIRED TO INSERT YOUR CODES IN THIS CELL\n",
        "#3. Write your code to print the min, max, median for each of the labels. You need to use a loop in this task. \n",
        "print(df1.describe().loc[['min' ,'max','mean']])\n",
        "print('-----------------------------------')\n",
        "print('Median of dataset\\n',df1.median())"
      ],
      "execution_count": 0,
      "outputs": [
        {
          "output_type": "stream",
          "text": [
            "      Weight  Waist  Pulse\n",
            "min    138.0   31.0   46.0\n",
            "max    247.0   46.0   74.0\n",
            "mean   178.6   35.4   56.1\n",
            "-----------------------------------\n",
            "Median of dataset\n",
            " Weight    176.0\n",
            "Waist      35.0\n",
            "Pulse      55.0\n",
            "dtype: float64\n"
          ],
          "name": "stdout"
        }
      ]
    },
    {
      "cell_type": "code",
      "metadata": {
        "id": "x6SaS9Ax8R9Y",
        "colab_type": "code",
        "outputId": "aee6d564-6acf-47e9-d26c-3774fe072add",
        "colab": {
          "base_uri": "https://localhost:8080/",
          "height": 281
        }
      },
      "source": [
        "# YOU ARE REQUIRED TO INSERT YOUR CODES IN THIS CELL\n",
        "#4. Construct a box-plot for each of the features.\n",
        "df1['Weight'].plot(kind='box')"
      ],
      "execution_count": 0,
      "outputs": [
        {
          "output_type": "execute_result",
          "data": {
            "text/plain": [
              "<matplotlib.axes._subplots.AxesSubplot at 0x7f88d0f71a58>"
            ]
          },
          "metadata": {
            "tags": []
          },
          "execution_count": 186
        },
        {
          "output_type": "display_data",
          "data": {
            "image/png": "[encoded data removed]",
            "text/plain": [
              "<Figure size 432x288 with 1 Axes>"
            ]
          },
          "metadata": {
            "tags": [],
            "needs_background": "light"
          }
        }
      ]
    },
    {
      "cell_type": "code",
      "metadata": {
        "id": "-o8XrX1Dtnju",
        "colab_type": "code",
        "outputId": "b02efc9e-b9f7-4d25-ede0-4f21b0dd9cef",
        "colab": {
          "base_uri": "https://localhost:8080/",
          "height": 281
        }
      },
      "source": [
        "df1['Waist'].plot(kind='box')\n"
      ],
      "execution_count": 0,
      "outputs": [
        {
          "output_type": "execute_result",
          "data": {
            "text/plain": [
              "<matplotlib.axes._subplots.AxesSubplot at 0x7f88d1333b38>"
            ]
          },
          "metadata": {
            "tags": []
          },
          "execution_count": 187
        },
        {
          "output_type": "display_data",
          "data": {
            "image/png": "[encoded data removed]",
            "text/plain": [
              "<Figure size 432x288 with 1 Axes>"
            ]
          },
          "metadata": {
            "tags": [],
            "needs_background": "light"
          }
        }
      ]
    },
    {
      "cell_type": "code",
      "metadata": {
        "id": "27vUC9Q9tnZw",
        "colab_type": "code",
        "outputId": "d3bc4411-32f5-49da-ef66-882ae7d9c870",
        "colab": {
          "base_uri": "https://localhost:8080/",
          "height": 283
        }
      },
      "source": [
        "df1['Pulse'].plot(kind='box')"
      ],
      "execution_count": 0,
      "outputs": [
        {
          "output_type": "execute_result",
          "data": {
            "text/plain": [
              "<matplotlib.axes._subplots.AxesSubplot at 0x7f88d0c35a90>"
            ]
          },
          "metadata": {
            "tags": []
          },
          "execution_count": 188
        },
        {
          "output_type": "display_data",
          "data": {
            "image/png": "[encoded data removed]",
            "text/plain": [
              "<Figure size 432x288 with 1 Axes>"
            ]
          },
          "metadata": {
            "tags": [],
            "needs_background": "light"
          }
        }
      ]
    },
    {
      "cell_type": "markdown",
      "metadata": {
        "id": "adnBiB1F8R9b",
        "colab_type": "text"
      },
      "source": [
        "## Part 1B. Linear Regression\n",
        "\n",
        "You are required to apply Linear Regression to train and make predictions on the **Linnerud** dataset."
      ]
    },
    {
      "cell_type": "markdown",
      "metadata": {
        "id": "6V33DuHk8R9b",
        "colab_type": "text"
      },
      "source": [
        "**Note:** To perform a supervised learning task, we need to train the model on a training set of the input data and the correct labels, and predict the trained model on **unseen** data. Then, we use the correct labels of the **unseen** data to evaluate the performance of the model. The **unseen** dataset is called the **test set**.\n",
        "\n",
        "In this part, we will be using one-dimensional linear regression using `Situps` feature and `Waist` label."
      ]
    },
    {
      "cell_type": "markdown",
      "metadata": {
        "id": "Wk8rCsWw8R9b",
        "colab_type": "text"
      },
      "source": [
        "**Instruction 1.4.** First you need to split the required feature and label from the **Linnerud** dataset into a training set and a test set. We will use 70% samples for training and 30% for testing. Print the number of samples in each set.\n",
        "\n",
        "[**Total marks: 5**]"
      ]
    },
    {
      "cell_type": "code",
      "metadata": {
        "id": "17WY3vLS8R9c",
        "colab_type": "code",
        "outputId": "7ae65b88-4734-49a5-8a53-10889b8f2835",
        "colab": {
          "base_uri": "https://localhost:8080/",
          "height": 82
        }
      },
      "source": [
        "# YOU ARE REQUIRED TO INSERT YOUR CODES IN THIS CELL\n",
        "X_for_1D_LR = X[:,np.where(np.array([feature_names_X])[0] == 'Situps')[0]]\n",
        "Y_for_1D_LR = Y[:,np.where(np.array([label_names_Y])[0] == 'Waist')[0]]\n",
        "\n",
        "# first, compute the number of samples in the training set:\n",
        "n_train = int(len(Y_for_1D_LR) * 0.7)\n",
        "\n",
        "# The training set is the first n_train samples in the dataset\n",
        "X_train = X_for_1D_LR[: n_train]\n",
        "Y_train = Y_for_1D_LR[:n_train]\n",
        "\n",
        "# The test set is the remaining samples in the dataset\n",
        "X_test = X_for_1D_LR[n_train:]\n",
        "Y_test = Y_for_1D_LR[n_train:]\n",
        "\n",
        "# Print the number of samples in the training set\n",
        "print('The number of samples in the training set:')\n",
        "print(len(X_train))\n",
        "\n",
        "# Print the number of samples in the test set\n",
        "print('The number of samples in the test set:')\n",
        "print(len(X_test))"
      ],
      "execution_count": 0,
      "outputs": [
        {
          "output_type": "stream",
          "text": [
            "The number of samples in the training set:\n",
            "14\n",
            "The number of samples in the test set:\n",
            "6\n"
          ],
          "name": "stdout"
        }
      ]
    },
    {
      "cell_type": "markdown",
      "metadata": {
        "id": "WSxHy8fH8R9e",
        "colab_type": "text"
      },
      "source": [
        "**Instruction 1.5.** Your tasks are:\n",
        "1. Create a Linear Regression model called `lr`. (5 marks)\n",
        "2. Fit the training data to the model. (5 marks)\n",
        "\n",
        "[**Total marks: 10**]"
      ]
    },
    {
      "cell_type": "code",
      "metadata": {
        "id": "LQ1J-UNQ8R9e",
        "colab_type": "code",
        "colab": {}
      },
      "source": [
        "# YOU ARE REQUIRED TO INSERT YOUR CODES IN THIS CELL\n",
        "lr = linear_model.LinearRegression()"
      ],
      "execution_count": 0,
      "outputs": []
    },
    {
      "cell_type": "code",
      "metadata": {
        "id": "TFaOpy-a8R9g",
        "colab_type": "code",
        "outputId": "ea98ae84-084e-43da-9d76-9c51fffbe9e9",
        "colab": {
          "base_uri": "https://localhost:8080/",
          "height": 33
        }
      },
      "source": [
        "# YOU ARE REQUIRED TO INSERT YOUR CODES IN THIS CELL\n",
        "lr.fit(X_train,Y_train)"
      ],
      "execution_count": 0,
      "outputs": [
        {
          "output_type": "execute_result",
          "data": {
            "text/plain": [
              "LinearRegression(copy_X=True, fit_intercept=True, n_jobs=None, normalize=False)"
            ]
          },
          "metadata": {
            "tags": []
          },
          "execution_count": 191
        }
      ]
    },
    {
      "cell_type": "markdown",
      "metadata": {
        "id": "Hd3gAEqL8R9k",
        "colab_type": "text"
      },
      "source": [
        "**Instruction 1.6** Predict the output of the test set.\n",
        "\n",
        "[**Total marks: 5**]"
      ]
    },
    {
      "cell_type": "code",
      "metadata": {
        "scrolled": true,
        "id": "7qWzhtHL8R9l",
        "colab_type": "code",
        "colab": {}
      },
      "source": [
        "# INSERT YOUR CODE HERE\n",
        "Y_pred=lr.predict(X_test)"
      ],
      "execution_count": 0,
      "outputs": []
    },
    {
      "cell_type": "markdown",
      "metadata": {
        "id": "Z3FBMrmT8R9o",
        "colab_type": "text"
      },
      "source": [
        "**Instruction 1.7** Construct a plot, where you will show the regression line for `Waist` vs `Situps`, the training data (use blue colour), the testing data (use green colour), and the residuals for the testing data.\n",
        "\n",
        "[**Total marks: 5**]"
      ]
    },
    {
      "cell_type": "code",
      "metadata": {
        "id": "HIFzbxFy8R9o",
        "colab_type": "code",
        "outputId": "ba8a94ed-89e0-4ca4-98b9-121b3242d711",
        "colab": {
          "base_uri": "https://localhost:8080/",
          "height": 281
        }
      },
      "source": [
        "# YOU ARE REQUIRED TO INSERT YOUR CODES IN THIS CELL\n",
        "# Construct a plot, where you will show the regression line for Waist vs Situps, the training data (use blue colour), \n",
        "# the testing data (use green colour), and the residuals for the testing data.\n",
        "plt.scatter(X_train, Y_train,  color='blue')\n",
        "plt.scatter(X_test, Y_test,color='green')\n",
        "plt.plot(X_test, Y_pred, color='green', linewidth=2)"
      ],
      "execution_count": 0,
      "outputs": [
        {
          "output_type": "execute_result",
          "data": {
            "text/plain": [
              "[<matplotlib.lines.Line2D at 0x7f88d0a47390>]"
            ]
          },
          "metadata": {
            "tags": []
          },
          "execution_count": 195
        },
        {
          "output_type": "display_data",
          "data": {
            "image/png": "[encoded data removed]",
            "text/plain": [
              "<Figure size 432x288 with 1 Axes>"
            ]
          },
          "metadata": {
            "tags": [],
            "needs_background": "light"
          }
        }
      ]
    },
    {
      "cell_type": "markdown",
      "metadata": {
        "collapsed": true,
        "id": "yPDv9OPp8R9r",
        "colab_type": "text"
      },
      "source": [
        "## Part 1C. Results"
      ]
    },
    {
      "cell_type": "markdown",
      "metadata": {
        "id": "cTRHeeGF8R9r",
        "colab_type": "text"
      },
      "source": [
        "**Note:** To evaluate the performance of a Linear Regression model, two commonly used measures are **mean absolute error** and **root mean squared error**.\n",
        "\n",
        "**mean absolute error** is defined by:\n",
        "\n",
        "$$mean\\_absolute\\_error(Y_{test}, Y_{pred}) = \\frac{1}{n_{samples}}\\sum_{i=1}^{n_{samples}}|y_{test}^i - y_{pred}^i|$$\n",
        "\n",
        "**root mean squared error** is defined by:\n",
        "\n",
        "$$root\\_mean\\_squared\\_error(Y_{test}, Y_{pred}) = \\sqrt{\\frac{1}{n_{samples}}\\sum_{i=1}^{n_{samples}}(y_{test}^i - y_{pred}^i)^2}$$\n"
      ]
    },
    {
      "cell_type": "markdown",
      "metadata": {
        "id": "ylzHmb4V8R9s",
        "colab_type": "text"
      },
      "source": [
        "**Instruction 1.8.** Compute **mean absolute error** and **root mean squared error** between the correct labels and the predictions of the test set and print these two values.\n",
        "\n",
        "[**Total marks: 8**]\n",
        "\n",
        "**Hint:** You might need to use [Regression metrics](http://scikit-learn.org/stable/modules/model_evaluation.html#regression-metrics) from sklearn."
      ]
    },
    {
      "cell_type": "code",
      "metadata": {
        "id": "3WRKGmu-8R9s",
        "colab_type": "code",
        "outputId": "e76bd570-bad9-4d57-90d5-98c2e22202b9",
        "colab": {
          "base_uri": "https://localhost:8080/",
          "height": 50
        }
      },
      "source": [
        "# YOU ARE REQUIRED TO INSERT YOUR CODES IN THIS CELL\n",
        "\n",
        "# Compute the mean absolute error between Y_test and Y_pred\n",
        "# Then, print the value\n",
        "from sklearn.metrics import median_absolute_error ,mean_squared_error\n",
        "print('Mean absolute error',median_absolute_error(Y_test ,Y_pred))\n",
        "\n",
        "# Compute the root mean squared error between Y_test and Y_pred\n",
        "print('Mean Square error',mean_squared_error(Y_test ,Y_pred))\n"
      ],
      "execution_count": 0,
      "outputs": [
        {
          "output_type": "stream",
          "text": [
            "Mean absolute error 2.860981819896402\n",
            "Mean Square error 9.216976671960381\n"
          ],
          "name": "stdout"
        }
      ]
    },
    {
      "cell_type": "markdown",
      "metadata": {
        "id": "dM2L_FfG8R9v",
        "colab_type": "text"
      },
      "source": [
        "## Part 1D. More advanced modelling"
      ]
    },
    {
      "cell_type": "markdown",
      "metadata": {
        "id": "zGVf0kjv8R9w",
        "colab_type": "text"
      },
      "source": [
        "**Instruction 1.9 (D, HD)** As we can see, the dataset has multi-dimensional feature vector. Previously we used only one feature to do one-dimensional linear regression model. In this task, we want to create a **two**-dimensional linear regression model for the label `Weight`. First of all, **using Pearson correlation**, we need to decide, which two of three independent variables would be best to use for Y vector in linear regression. Therefore, your tasks are:\n",
        "1. Write your code to find out which two out of three variables you will be using for linear regression. (5 marks)\n",
        "2. Explain your choice. (5 marks)\n",
        "\n",
        "[**Total marks: 10**]"
      ]
    },
    {
      "cell_type": "code",
      "metadata": {
        "id": "spnJHDt48R9w",
        "colab_type": "code",
        "outputId": "8c1103b8-1257-4084-ea88-1a30357fdb86",
        "colab": {
          "base_uri": "https://localhost:8080/",
          "height": 133
        }
      },
      "source": [
        "# YOU ARE REQUIRED TO INSERT YOUR CODES IN THIS CELL\n",
        "# Write your code to find out which two out of three variable you will be using for linear regression.\n",
        "df.corr(method ='pearson')"
      ],
      "execution_count": 0,
      "outputs": [
        {
          "output_type": "execute_result",
          "data": {
            "text/html": [
              "<div>\n",
              "<style scoped>\n",
              "    .dataframe tbody tr th:only-of-type {\n",
              "        vertical-align: middle;\n",
              "    }\n",
              "\n",
              "    .dataframe tbody tr th {\n",
              "        vertical-align: top;\n",
              "    }\n",
              "\n",
              "    .dataframe thead th {\n",
              "        text-align: right;\n",
              "    }\n",
              "</style>\n",
              "<table border=\"1\" class=\"dataframe\">\n",
              "  <thead>\n",
              "    <tr style=\"text-align: right;\">\n",
              "      <th></th>\n",
              "      <th>Chins</th>\n",
              "      <th>Situps</th>\n",
              "      <th>Jumps</th>\n",
              "    </tr>\n",
              "  </thead>\n",
              "  <tbody>\n",
              "    <tr>\n",
              "      <th>Chins</th>\n",
              "      <td>1.000000</td>\n",
              "      <td>0.695727</td>\n",
              "      <td>0.495760</td>\n",
              "    </tr>\n",
              "    <tr>\n",
              "      <th>Situps</th>\n",
              "      <td>0.695727</td>\n",
              "      <td>1.000000</td>\n",
              "      <td>0.669206</td>\n",
              "    </tr>\n",
              "    <tr>\n",
              "      <th>Jumps</th>\n",
              "      <td>0.495760</td>\n",
              "      <td>0.669206</td>\n",
              "      <td>1.000000</td>\n",
              "    </tr>\n",
              "  </tbody>\n",
              "</table>\n",
              "</div>"
            ],
            "text/plain": [
              "           Chins    Situps     Jumps\n",
              "Chins   1.000000  0.695727  0.495760\n",
              "Situps  0.695727  1.000000  0.669206\n",
              "Jumps   0.495760  0.669206  1.000000"
            ]
          },
          "metadata": {
            "tags": []
          },
          "execution_count": 197
        }
      ]
    },
    {
      "cell_type": "code",
      "metadata": {
        "id": "2StpJR4buWHc",
        "colab_type": "code",
        "colab": {}
      },
      "source": [
        "# YOU ARE REQUIRED TO INSERT YOUR COMMENT IN THIS CELL\n",
        "\n",
        "# jump and chin selected because they have the lowest dependence between each other "
      ],
      "execution_count": 0,
      "outputs": []
    },
    {
      "cell_type": "markdown",
      "metadata": {
        "id": "yC3lSN3_8R92",
        "colab_type": "text"
      },
      "source": [
        "**Instruction 1.10 (D, HD)** After we have decided, which features are best to use for linear regression, we need to create training and testing data, where the feature vector is two-dimensional and the label is `Weight`. Also, we will need to compare the two-dimensional linear regression (based on two best independent variables) with on-dimensional linear regression (based on the best independent variable). Therefore, we will need to create a dataset with one-dimensional feature vector for comparison.\n",
        "\n",
        "Your task is:\n",
        "1. Create the training and testing datasets for two-dimensional linear regression. (4 marks)\n",
        "2. Create the one-dimensional training and testing dataset for comparison with 2D linear regression. (1 mark)\n",
        "\n",
        "[**Total marks: 5**]"
      ]
    },
    {
      "cell_type": "code",
      "metadata": {
        "id": "3TDQrWaj8R92",
        "colab_type": "code",
        "outputId": "06df1190-31e4-492c-ca81-8fad7d8ae129",
        "colab": {
          "base_uri": "https://localhost:8080/",
          "height": 66
        }
      },
      "source": [
        "# YOU ARE REQUIRED TO INSERT YOUR CODES IN THIS CELL\n",
        "X_for_2D_LR = df[['Chins', 'Jumps']]\n",
        "Y_for_2D_LR = df1['Weight']\n",
        "\n",
        "\n",
        "# first, compute the number of samples in the training set:\n",
        "n_train = int(len(Y_for_1D_LR) * 0.7)\n",
        "\n",
        "# The training set is the first n_train samples in the dataset\n",
        "X_train = X_for_2D_LR[: n_train]\n",
        "Y_train = X_for_2D_LR[:n_train]\n",
        "\n",
        "# The test set is the remaining samples in the dataset\n",
        "X_test = X_for_2D_LR[n_train:]\n",
        "Y_test = X_for_2D_LR[n_train:]\n",
        "\n",
        "df['target']=df1['Weight']\n",
        "print(df.corr('pearson').loc[['Chins','Jumps']])\n",
        "\n",
        "# The 1D comparison dataset\n",
        "# we will select  Jumps beacuse it has less dependence by pearson corelation\n",
        "X_for_C = df[['Jumps']]\n",
        "Y_for_C = df1['Weight']\n",
        "\n",
        "X_train_C = X_for_C[: n_train]\n",
        "Y_train_C = Y_for_C[:n_train]\n",
        "\n",
        "X_test_C = X_for_C[n_train:]\n",
        "Y_test_C = Y_for_C[n_train:]"
      ],
      "execution_count": 0,
      "outputs": [
        {
          "output_type": "stream",
          "text": [
            "         Chins    Situps    Jumps    target\n",
            "Chins  1.00000  0.695727  0.49576 -0.389694\n",
            "Jumps  0.49576  0.669206  1.00000 -0.226296\n"
          ],
          "name": "stdout"
        }
      ]
    },
    {
      "cell_type": "markdown",
      "metadata": {
        "id": "RHMmhcSU8R94",
        "colab_type": "text"
      },
      "source": [
        "**Instruction 1.11 (D, HD)** We have the training and testing data now. Therefore, your tasks are:\n",
        "1. Create a linear regression model named `lr2d`. (1 mark)\n",
        "2. Fit the training data to the model. (1 mark)\n",
        "3. Predict the output on the test set. (1 mark)\n",
        "4. Compute **mean absolute error** and **root mean squared error** between the correct labels and the predictions of the test set and print these two values. (1 mark)\n",
        "\n",
        "[**Total marks: 4**]"
      ]
    },
    {
      "cell_type": "code",
      "metadata": {
        "id": "SZxFI1tw8R94",
        "colab_type": "code",
        "colab": {}
      },
      "source": [
        "# YOU ARE REQUIRED TO INSERT YOUR CODES IN THIS CELL\n",
        "lr2d =  linear_model.LinearRegression()"
      ],
      "execution_count": 0,
      "outputs": []
    },
    {
      "cell_type": "code",
      "metadata": {
        "id": "G6q_vtvb8R96",
        "colab_type": "code",
        "outputId": "01a1b3b8-59cc-4696-f8de-b6c6f5dc0364",
        "colab": {
          "base_uri": "https://localhost:8080/",
          "height": 33
        }
      },
      "source": [
        "# YOU ARE REQUIRED TO INSERT YOUR CODES IN THIS CELL\n",
        "lr2d.fit(X_train,Y_train)"
      ],
      "execution_count": 0,
      "outputs": [
        {
          "output_type": "execute_result",
          "data": {
            "text/plain": [
              "LinearRegression(copy_X=True, fit_intercept=True, n_jobs=None, normalize=False)"
            ]
          },
          "metadata": {
            "tags": []
          },
          "execution_count": 201
        }
      ]
    },
    {
      "cell_type": "code",
      "metadata": {
        "id": "sFNJFCMk8R98",
        "colab_type": "code",
        "colab": {}
      },
      "source": [
        "# YOU ARE REQUIRED TO INSERT YOUR CODES IN THIS CELL\n",
        "Y_pred = lr2d.predict(X_test)"
      ],
      "execution_count": 0,
      "outputs": []
    },
    {
      "cell_type": "code",
      "metadata": {
        "id": "Trs6AeEk8R9-",
        "colab_type": "code",
        "outputId": "d5e823f2-b69d-4efd-cc96-7933725dbe11",
        "colab": {
          "base_uri": "https://localhost:8080/",
          "height": 50
        }
      },
      "source": [
        "# YOU ARE REQUIRED TO INSERT YOUR CODES IN THIS CELL\n",
        "print('Mean absolute error',median_absolute_error(Y_test ,Y_pred))\n",
        "print('Mean Square error',mean_squared_error(Y_test ,Y_pred))"
      ],
      "execution_count": 0,
      "outputs": [
        {
          "output_type": "stream",
          "text": [
            "Mean absolute error 1.3988810110276972e-14\n",
            "Mean Square error 3.416425103694665e-28\n"
          ],
          "name": "stdout"
        }
      ]
    },
    {
      "cell_type": "markdown",
      "metadata": {
        "id": "QOIZb_aY8R-C",
        "colab_type": "text"
      },
      "source": [
        "**Instruction 1.12 (D, HD)** Now we can compare the errors for two-dimensional linear regression with one-dimensional linear regression. Your tasks are:\n",
        "1. Create a linear regression model named `lr1d_compare`. Fit the one-dimensional training data and the same labels to the model. Predict the output on the comparison dataset. (1 mark)\n",
        "2. Compute **mean absolute error** and **root mean squared error** between the correct labels and the predictions of the comparison set and print these two values. (1 mark)\n",
        "3. Discuss the findings and explain the result. In discussion, consider the relationships between the size of the dataset, the Pearson correlation coefficients you have calculated above, the `Weight` values and the values of errors. (4 marks)\n",
        "\n",
        "[**Total marks: 6**]"
      ]
    },
    {
      "cell_type": "code",
      "metadata": {
        "id": "nU_e72G48R-C",
        "colab_type": "code",
        "colab": {}
      },
      "source": [
        "# YOU ARE REQUIRED TO INSERT YOUR CODES IN THIS CELL\n",
        "lr1d_compare=linear_model.LinearRegression()"
      ],
      "execution_count": 0,
      "outputs": []
    },
    {
      "cell_type": "code",
      "metadata": {
        "id": "decnIAeQ8R-E",
        "colab_type": "code",
        "outputId": "eb9751d6-8d61-4b40-cc7a-ff03acdf44b3",
        "colab": {
          "base_uri": "https://localhost:8080/",
          "height": 33
        }
      },
      "source": [
        "# YOU ARE REQUIRED TO INSERT YOUR CODES IN THIS CELL\n",
        "lr1d_compare.fit(X_train_C ,Y_train_C)"
      ],
      "execution_count": 0,
      "outputs": [
        {
          "output_type": "execute_result",
          "data": {
            "text/plain": [
              "LinearRegression(copy_X=True, fit_intercept=True, n_jobs=None, normalize=False)"
            ]
          },
          "metadata": {
            "tags": []
          },
          "execution_count": 205
        }
      ]
    },
    {
      "cell_type": "code",
      "metadata": {
        "id": "uIxwIt448R-H",
        "colab_type": "code",
        "outputId": "abe48b1f-fbed-4cf6-d302-f1a7765aae2f",
        "colab": {
          "base_uri": "https://localhost:8080/",
          "height": 50
        }
      },
      "source": [
        "# YOU ARE REQUIRED TO INSERT YOUR COMMENT IN THIS CELL\n",
        "# INSERT YOUR COMMENT HERE\n",
        "Y_pred =lr1d_compare.predict(X_test_C)\n",
        "print('Mean absolute error',median_absolute_error(Y_test_C ,Y_pred))\n",
        "print('Mean Square error',mean_squared_error(Y_test_C ,Y_pred))"
      ],
      "execution_count": 0,
      "outputs": [
        {
          "output_type": "stream",
          "text": [
            "Mean absolute error 25.20064883995282\n",
            "Mean Square error 780.4503462582785\n"
          ],
          "name": "stdout"
        }
      ]
    },
    {
      "cell_type": "markdown",
      "metadata": {
        "id": "1RoZTfwi8R-J",
        "colab_type": "text"
      },
      "source": [
        "# <span style=\"color:#0b486b\">Part 2: Classification</span>\n",
        "\n",
        "In this part, you will be required to apply Naive Bayes algorithm for the classification task on the **breast cancer** dataset from sklearn. More about the dataset can be found [here](http://scikit-learn.org/stable/modules/generated/sklearn.datasets.load_breast_cancer.html#sklearn.datasets.load_breast_cancer). \n",
        "\n",
        "Here, we apply Multinomial Naive Bayes for discrete features. We can construct a Multinomial Naive Bayes model by calling **naive_bayes.MultinomialNB()** from sklearn package. More about the model can be found [here](http://scikit-learn.org/stable/modules/generated/sklearn.naive_bayes.MultinomialNB.html#sklearn.naive_bayes.MultinomialNB)\n"
      ]
    },
    {
      "cell_type": "markdown",
      "metadata": {
        "id": "iFk-AcVW8R-J",
        "colab_type": "text"
      },
      "source": [
        "## Part 2A: Load and examine the dataset"
      ]
    },
    {
      "cell_type": "markdown",
      "metadata": {
        "id": "4K4YyDNQ8R-K",
        "colab_type": "text"
      },
      "source": [
        "**Instruction 2.1.** Write your code to load the **breast cancer** dataset from sklearn and assign it to a variable called `cancer`.\n",
        "\n",
        "[**Total mark: 1**]"
      ]
    },
    {
      "cell_type": "code",
      "metadata": {
        "id": "hKOYXFps8R-K",
        "colab_type": "code",
        "outputId": "4aa4dedd-11e9-403f-a8c4-271e7ba0c87f",
        "colab": {
          "base_uri": "https://localhost:8080/",
          "height": 33
        }
      },
      "source": [
        "# YOU ARE REQUIRED TO INSERT YOUR CODES IN THIS CELL\n",
        "'''\n",
        "1. Write your code to load the dataset from sklearn and assign it to a variable called `cancer`.\n",
        "'''\n",
        "cancer = datasets.load_breast_cancer()\n",
        "print(cancer.keys())"
      ],
      "execution_count": 0,
      "outputs": [
        {
          "output_type": "stream",
          "text": [
            "dict_keys(['data', 'target', 'target_names', 'DESCR', 'feature_names', 'filename'])\n"
          ],
          "name": "stdout"
        }
      ]
    },
    {
      "cell_type": "markdown",
      "metadata": {
        "id": "NHs7BEz78R-O",
        "colab_type": "text"
      },
      "source": [
        "**Note:** The cell code below assigns the data to variable `X` and the labels to variable `Y`. Run the cell and use `X` and `Y` for later tasks."
      ]
    },
    {
      "cell_type": "code",
      "metadata": {
        "id": "a-GmswMG8R-O",
        "colab_type": "code",
        "outputId": "00e105ef-3535-47f2-d64c-4183436b798d",
        "colab": {
          "base_uri": "https://localhost:8080/",
          "height": 163
        }
      },
      "source": [
        "X = cancer['data']\n",
        "Y = cancer['target']\n",
        "feature_names  = cancer['feature_names']\n",
        "print('Number of features->',feature_names)"
      ],
      "execution_count": 0,
      "outputs": [
        {
          "output_type": "stream",
          "text": [
            "Number of features-> ['mean radius' 'mean texture' 'mean perimeter' 'mean area'\n",
            " 'mean smoothness' 'mean compactness' 'mean concavity'\n",
            " 'mean concave points' 'mean symmetry' 'mean fractal dimension'\n",
            " 'radius error' 'texture error' 'perimeter error' 'area error'\n",
            " 'smoothness error' 'compactness error' 'concavity error'\n",
            " 'concave points error' 'symmetry error' 'fractal dimension error'\n",
            " 'worst radius' 'worst texture' 'worst perimeter' 'worst area'\n",
            " 'worst smoothness' 'worst compactness' 'worst concavity'\n",
            " 'worst concave points' 'worst symmetry' 'worst fractal dimension']\n"
          ],
          "name": "stdout"
        }
      ]
    },
    {
      "cell_type": "markdown",
      "metadata": {
        "id": "w1ttvsPA8R-Q",
        "colab_type": "text"
      },
      "source": [
        "**Instruction 2.2.** Now you need to examine the size of data. Write your code to find and print out the number of **samples** and the number of **features** in the dataset.\n",
        "\n",
        "[**Total mark: 1**]"
      ]
    },
    {
      "cell_type": "code",
      "metadata": {
        "id": "Cc1cGmv18R-Q",
        "colab_type": "code",
        "outputId": "86272ad4-de01-46a2-c419-19ef9474ec2d",
        "colab": {
          "base_uri": "https://localhost:8080/",
          "height": 82
        }
      },
      "source": [
        "# YOU ARE REQUIRED TO INSERT YOUR CODES IN THIS CELL\n",
        "'''\n",
        "2. Write your code to find and print out the number of **samples** \n",
        "    and the number of **features** in the dataset.\n",
        "    Using variable X.\n",
        "'''\n",
        "print('The number of samples:')\n",
        "# INSERT YOUR CODE HERE\n",
        "print(len(X))\n",
        "\n",
        "print('The number of features:')\n",
        "# INSERT YOUR CODE HERE\n",
        "print(len(feature_names))"
      ],
      "execution_count": 0,
      "outputs": [
        {
          "output_type": "stream",
          "text": [
            "The number of samples:\n",
            "569\n",
            "The number of features:\n",
            "30\n"
          ],
          "name": "stdout"
        }
      ]
    },
    {
      "cell_type": "markdown",
      "metadata": {
        "id": "J-tBtkRy8R-S",
        "colab_type": "text"
      },
      "source": [
        "**Instruction 2.3.** The following code segment is designed to do some statistics on the labels to get a brief understanding about the prediction task. This is a classication task, it is important to know the number of categories (or number of classes) in the dataset and their frequencies.\n",
        "\n",
        "**Your tasks are:**\n",
        "\n",
        "1. Write your code to compute and print the number of classes in the dataset. (1 marks)\n",
        "2. Write your code to compute and print the number of occurrences of each class. (3 marks)\n",
        "\n",
        "[**Total marks: 4**]"
      ]
    },
    {
      "cell_type": "code",
      "metadata": {
        "id": "o84gc8e08R-S",
        "colab_type": "code",
        "outputId": "0b21240a-e58c-41c2-e76d-27aa7f08406b",
        "colab": {
          "base_uri": "https://localhost:8080/",
          "height": 50
        }
      },
      "source": [
        "# YOU ARE REQUIRED TO INSERT YOUR CODES IN THIS CELL\n",
        "'''\n",
        "1. Write your code to compute and print the number of classes in the dataset.\n",
        "    Using variable Y.\n",
        "'''\n",
        "\n",
        "# compute and print the number of classes.\n",
        "# INSERT YOUR CODE HERE\n",
        "\n",
        "number_of_class = set(Y)\n",
        "\n",
        "print('Classes in variable Y->',number_of_class)\n",
        "print('Number of classes in variable Y ->',len(number_of_class))"
      ],
      "execution_count": 0,
      "outputs": [
        {
          "output_type": "stream",
          "text": [
            "Classes in variable Y-> {0, 1}\n",
            "Number of classes in variable Y -> 2\n"
          ],
          "name": "stdout"
        }
      ]
    },
    {
      "cell_type": "code",
      "metadata": {
        "id": "xGJS5EMV8R-V",
        "colab_type": "code",
        "outputId": "7b6c9ed0-9fb4-4af9-b455-ba0e1ff78fbd",
        "colab": {
          "base_uri": "https://localhost:8080/",
          "height": 66
        }
      },
      "source": [
        "# YOU ARE REQUIRED TO INSERT YOUR CODES IN THIS CELL\n",
        "'''\n",
        "2. Write your code to compute and print the number of occurrences of each class.\n",
        "'''\n",
        "\n",
        "# compute and print the number of occurrences of each class\n",
        "pd.DataFrame(data = Y,columns=['Y'])['Y'].value_counts()"
      ],
      "execution_count": 0,
      "outputs": [
        {
          "output_type": "execute_result",
          "data": {
            "text/plain": [
              "1    357\n",
              "0    212\n",
              "Name: Y, dtype: int64"
            ]
          },
          "metadata": {
            "tags": []
          },
          "execution_count": 211
        }
      ]
    },
    {
      "cell_type": "markdown",
      "metadata": {
        "id": "I_zjWAxU8R-X",
        "colab_type": "text"
      },
      "source": [
        "## Part 2B. Classification with Naive Bayes\n",
        "\n",
        "You are required to apply Naive Bayes to train and make predictions on the **breast cancer** dataset."
      ]
    },
    {
      "cell_type": "markdown",
      "metadata": {
        "id": "XlGK_KJn8R-Y",
        "colab_type": "text"
      },
      "source": [
        "Multinomial Naive Bayes classifier is used for discrete data. The features of the breast cancer dataset are however real values. The function below discretise the features in to 0 (low), 1 (middle) and 2 (high). Run the cell below."
      ]
    },
    {
      "cell_type": "code",
      "metadata": {
        "id": "SUO2GoRL8R-Z",
        "colab_type": "code",
        "colab": {}
      },
      "source": [
        "def discretise(X):\n",
        "    # for each feature, values smaller than 33% percentile are set by 0 (low), \n",
        "    # from 33% to 67% percentile are set by 1 (middle) and other are set by 2 (high).\n",
        "    n_feats = X.shape[-1]\n",
        "    X_discrete = np.zeros(X.shape)\n",
        "    \n",
        "    for i in range(n_feats):\n",
        "        # compute val1 and val2 as the percentile of 33% and 67%, respectively of the column i\n",
        "        val1, val2 = np.percentile(X[:, i], 33), np.percentile(X[:, i], 67)   \n",
        "        \n",
        "        # increase all discrete values by 1 for all values in X that larger than val1\n",
        "        ids = np.where(X[:, i] > val1)[0]\n",
        "        X_discrete[ids, i] += 1\n",
        "        \n",
        "        # increase all discrete values by 1 for all values in X that larger than val2\n",
        "        ids = np.where(X[:, i] > val2)[0]\n",
        "        X_discrete[ids, i] += 1\n",
        "        \n",
        "    return X_discrete\n"
      ],
      "execution_count": 0,
      "outputs": []
    },
    {
      "cell_type": "markdown",
      "metadata": {
        "id": "k-XcpL308R-c",
        "colab_type": "text"
      },
      "source": [
        "Then we call the discretise function for the feature X. Run the cell below and your data are ready for classification."
      ]
    },
    {
      "cell_type": "code",
      "metadata": {
        "id": "bciijA078R-c",
        "colab_type": "code",
        "colab": {}
      },
      "source": [
        "X = discretise(X)"
      ],
      "execution_count": 0,
      "outputs": []
    },
    {
      "cell_type": "markdown",
      "metadata": {
        "id": "VaYe4ws08R-e",
        "colab_type": "text"
      },
      "source": [
        "**Instruction 2.4.** Similar to **Part 1**, you need to split the dataset into a training set and a test set. We will use 70% samples for training and 30% for testing. Print the number of samples in each set.\n",
        "\n",
        "[**Total marks: 2**]"
      ]
    },
    {
      "cell_type": "code",
      "metadata": {
        "id": "EVkwJ84j8R-f",
        "colab_type": "code",
        "outputId": "646c98e0-ba05-4b6c-aa63-4203c098217c",
        "colab": {
          "base_uri": "https://localhost:8080/",
          "height": 82
        }
      },
      "source": [
        "# YOU ARE REQUIRED TO INSERT YOUR CODES IN THIS CELL\n",
        "\n",
        "# first, compute the number of samples in the training set:\n",
        "n_train = int(len(Y) * 0.7)\n",
        "\n",
        "# The training set is the first n_train samples in the dataset\n",
        "X_train = X[:n_train]\n",
        "Y_train = Y[:n_train]\n",
        "\n",
        "\n",
        "# The test set is the remaining samples in the dataset\n",
        "X_test = X[n_train:]\n",
        "Y_test = Y[n_train:]\n",
        "\n",
        "# Print the number of samples in the training set\n",
        "print('The number of samples in the training set:')\n",
        "print(len(X_train))\n",
        "\n",
        "# Print the number of samples in the test set\n",
        "print('The number of samples in the test set:')\n",
        "print(len(X_test))\n"
      ],
      "execution_count": 0,
      "outputs": [
        {
          "output_type": "stream",
          "text": [
            "The number of samples in the training set:\n",
            "398\n",
            "The number of samples in the test set:\n",
            "171\n"
          ],
          "name": "stdout"
        }
      ]
    },
    {
      "cell_type": "markdown",
      "metadata": {
        "id": "9LTMbAyK8R-h",
        "colab_type": "text"
      },
      "source": [
        "**Instruction 2.5.** Create a Multinomial Naive Bayes model called `mnb`.\n",
        "\n",
        "[**Total marks: 2**]"
      ]
    },
    {
      "cell_type": "code",
      "metadata": {
        "id": "6thd812b8R-h",
        "colab_type": "code",
        "colab": {}
      },
      "source": [
        "# YOU ARE REQUIRED TO INSERT YOUR CODES IN THIS CELL\n",
        "mnb=naive_bayes.MultinomialNB()"
      ],
      "execution_count": 0,
      "outputs": []
    },
    {
      "cell_type": "markdown",
      "metadata": {
        "id": "dfX7vUlJ8R-k",
        "colab_type": "text"
      },
      "source": [
        "**Instruction 2.6.** Fit the training data to the model.\n",
        "\n",
        "[**Total marks: 2**]"
      ]
    },
    {
      "cell_type": "code",
      "metadata": {
        "id": "HBIT13ud8R-k",
        "colab_type": "code",
        "outputId": "e44fbd86-11b4-401a-862f-052709f698fb",
        "colab": {
          "base_uri": "https://localhost:8080/",
          "height": 33
        }
      },
      "source": [
        "# YOU ARE REQUIRED TO INSERT YOUR CODES IN THIS CELL\n",
        "mnb.fit(X_train,Y_train)"
      ],
      "execution_count": 0,
      "outputs": [
        {
          "output_type": "execute_result",
          "data": {
            "text/plain": [
              "MultinomialNB(alpha=1.0, class_prior=None, fit_prior=True)"
            ]
          },
          "metadata": {
            "tags": []
          },
          "execution_count": 216
        }
      ]
    },
    {
      "cell_type": "markdown",
      "metadata": {
        "id": "HXdJkKE68R-p",
        "colab_type": "text"
      },
      "source": [
        "**Instruction 2.7** Predict the output of the test set.\n",
        "\n",
        "[**Total marks: 2**]"
      ]
    },
    {
      "cell_type": "code",
      "metadata": {
        "id": "Rt9CbROK8R-q",
        "colab_type": "code",
        "colab": {}
      },
      "source": [
        "Y_pred = mnb.predict(X_test)"
      ],
      "execution_count": 0,
      "outputs": []
    },
    {
      "cell_type": "markdown",
      "metadata": {
        "collapsed": true,
        "id": "8jdkNuu-8R-s",
        "colab_type": "text"
      },
      "source": [
        "## Part 2C. Results and Visualization"
      ]
    },
    {
      "cell_type": "markdown",
      "metadata": {
        "id": "gd50FcHj8R-t",
        "colab_type": "text"
      },
      "source": [
        "**Note:** To evaluate the performance of a classification task, commonly used measures are **accuracy**, **precision**, **recall** and **f1-score**."
      ]
    },
    {
      "cell_type": "markdown",
      "metadata": {
        "id": "FSDMMDYJ8R-v",
        "colab_type": "text"
      },
      "source": [
        "**Instruction 2.8.** Compute the **accuracy**, **precision**, **recall** and **f1-score** of the predictions on the test set and print these values.\n",
        "\n",
        "[**Total marks: 8**]\n",
        "\n",
        "**Hint:** You might need to see [Classification metrics](http://scikit-learn.org/stable/modules/model_evaluation.html#classification-metrics) from sklearn."
      ]
    },
    {
      "cell_type": "code",
      "metadata": {
        "id": "Mhr1DU1N8R-w",
        "colab_type": "code",
        "outputId": "a97b5d22-9550-4973-e8fa-58fd1e6b5a1e",
        "colab": {
          "base_uri": "https://localhost:8080/",
          "height": 82
        }
      },
      "source": [
        "# YOU ARE REQUIRED TO INSERT YOUR CODES IN THIS CELL\n",
        "from sklearn.metrics import f1_score ,precision_score , recall_score ,accuracy_score\n",
        "# Compute and print the accuracy of predictions on the test set\n",
        "print('Accuracy score -> ',accuracy_score(Y_test,Y_pred))\n",
        "\n",
        "\n",
        "# Compute and print the precision of predictions on the test set\n",
        "print('Precesion Score ->', precision_score(Y_test,Y_pred))\n",
        "\n",
        "\n",
        "# Compute and print the recall of predictions on the test set\n",
        "print('Recall score->',recall_score(Y_test,Y_pred))\n",
        "\n",
        "\n",
        "# Compute and print the f1-score of predictions on the test set\n",
        "print('F1 score ->',f1_score(Y_test,Y_pred))"
      ],
      "execution_count": 0,
      "outputs": [
        {
          "output_type": "stream",
          "text": [
            "Accuracy score ->  0.7309941520467836\n",
            "Precesion Score -> 0.9886363636363636\n",
            "Recall score-> 0.6590909090909091\n",
            "F1 score -> 0.790909090909091\n"
          ],
          "name": "stdout"
        }
      ]
    },
    {
      "cell_type": "markdown",
      "metadata": {
        "id": "PA-V9zvc8R-y",
        "colab_type": "text"
      },
      "source": [
        "**Note:** We have evaluated the performance of the classification task by different measures. Now, we want to visualise the data as well as the predicted labels. [t-SNE](http://scikit-learn.org/stable/modules/generated/sklearn.manifold.TSNE.html) is a tool to convert high-dimensional data into low-dimensional ones. To visualise the data, we can use t-SNE to reduce the data dimension to 2D.\n",
        "\n",
        "The following function `reduce_to_2D` takes the matrix X of size (n_samples, n_features) and returns a matrix of size (n_samples, 2), which is a dimension-reduced version of X. **You will need this function for a subsequent task**."
      ]
    },
    {
      "cell_type": "code",
      "metadata": {
        "id": "qk3DfWAr8R-z",
        "colab_type": "code",
        "colab": {}
      },
      "source": [
        "def reduce_to_2D(X):\n",
        "    tsne = TSNE(n_components=2, random_state=1)\n",
        "    new_X = tsne.fit_transform(X)\n",
        "    return new_X"
      ],
      "execution_count": 0,
      "outputs": []
    },
    {
      "cell_type": "markdown",
      "metadata": {
        "id": "LPZ1aDrF8R-1",
        "colab_type": "text"
      },
      "source": [
        "**Instruction 2.9**. Visualisation.\n",
        "\n",
        "**Your tasks are:**\n",
        "\n",
        "1. Create a variable named `X_test_2D` that is the dimension-reduced version of X_test using function `reduce_to_2D`. (4 marks)\n",
        "\n",
        "2. Visualise `X_test_2D` using scatter() with the colors being the corresponding predicted labels. (4 marks)\n",
        "\n",
        "\n",
        "[**Total mark: 8**]"
      ]
    },
    {
      "cell_type": "code",
      "metadata": {
        "id": "WrGIyzmf8R-3",
        "colab_type": "code",
        "colab": {}
      },
      "source": [
        "# YOU ARE REQUIRED TO INSERT YOUR CODES IN THIS CELL\n",
        "'''\n",
        "1. Create a variable named `X_test_2D` \n",
        "    that is the dimension-reduced version of X_test using function `reduce_to_2D`.\n",
        "'''\n",
        "\n",
        "# INSERT YOUR CODE HERE\n",
        "X_test_2D=reduce_to_2D(X_test)\n",
        "X_test_2D=pd.DataFrame(data =X_test_2D , columns=['first','second'])"
      ],
      "execution_count": 0,
      "outputs": []
    },
    {
      "cell_type": "code",
      "metadata": {
        "id": "kXdA7YGO8R-5",
        "colab_type": "code",
        "outputId": "3b631c85-6c8a-49ce-cb5b-f3e1a8118693",
        "colab": {
          "base_uri": "https://localhost:8080/",
          "height": 282
        }
      },
      "source": [
        "# YOU ARE REQUIRED TO INSERT YOUR CODES IN THIS CELL\n",
        "'''\n",
        "2. Visualise `X_test_2D` by scatters with the colors being the corresponding predicted labels.\n",
        "'''\n",
        "\n",
        "# INSERT YOUR CODE HERE\n",
        "plt.scatter(X_test_2D['first'], X_test_2D['second'], c=Y_test)"
      ],
      "execution_count": 0,
      "outputs": [
        {
          "output_type": "execute_result",
          "data": {
            "text/plain": [
              "<matplotlib.collections.PathCollection at 0x7f88d0a3e3c8>"
            ]
          },
          "metadata": {
            "tags": []
          },
          "execution_count": 221
        },
        {
          "output_type": "display_data",
          "data": {
            "image/png": "[encoded data removed]",
            "text/plain": [
              "<Figure size 432x288 with 1 Axes>"
            ]
          },
          "metadata": {
            "tags": [],
            "needs_background": "light"
          }
        }
      ]
    },
    {
      "cell_type": "code",
      "metadata": {
        "id": "vuJLXtx0is_v",
        "colab_type": "code",
        "outputId": "67ead285-b5eb-4fee-ed47-bd9d0a15d7d0",
        "colab": {
          "base_uri": "https://localhost:8080/",
          "height": 33
        }
      },
      "source": [
        "print('End')"
      ],
      "execution_count": 0,
      "outputs": [
        {
          "output_type": "stream",
          "text": [
            "End\n"
          ],
          "name": "stdout"
        }
      ]
    }
  ]
}